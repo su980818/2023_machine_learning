{
  "nbformat": 4,
  "nbformat_minor": 0,
  "metadata": {
    "colab": {
      "provenance": []
    },
    "kernelspec": {
      "name": "python3",
      "display_name": "Python 3"
    },
    "language_info": {
      "name": "python"
    }
  },
  "cells": [
    {
      "cell_type": "code",
      "execution_count": 63,
      "metadata": {
        "id": "i12Nxen69jMw"
      },
      "outputs": [],
      "source": [
        "import random\n",
        "\n",
        "train_samples = []\n",
        "train_labels = []\n",
        "\n",
        "for i in range(50):\n",
        "  train_samples.append(random.randint(13,64))\n",
        "  train_labels.append(1)\n",
        "\n",
        "  train_samples.append(random.randint(65,100))\n",
        "  train_labels.append(0)\n",
        "\n",
        "for i in range(1000):\n",
        "  train_samples.append(random.randint(13,64))\n",
        "  train_labels.append(0)\n",
        "\n",
        "  train_samples.append(random.randint(65,100))\n",
        "  train_labels.append(1)\n"
      ]
    },
    {
      "cell_type": "code",
      "source": [
        "import numpy as np\n",
        "from sklearn.utils import shuffle\n",
        "from sklearn.preprocessing import MinMaxScaler\n",
        "\n",
        "\n",
        "train_labels = np.array(train_labels)\n",
        "train_samples = np.array(train_samples)\n",
        "train_labels, train_samples = shuffle(train_labels, train_samples)\n",
        "\n"
      ],
      "metadata": {
        "id": "rTEIZNrQ-_4A"
      },
      "execution_count": 64,
      "outputs": []
    },
    {
      "cell_type": "code",
      "source": [
        "scaler = MinMaxScaler(feature_range=(0,1))\n",
        "scaled_train_samples = scaler.fit_transform(train_samples.reshape(-1,1))\n",
        "\n",
        "print(scaled_train_samples)"
      ],
      "metadata": {
        "colab": {
          "base_uri": "https://localhost:8080/"
        },
        "id": "8zUHlPb9AVB3",
        "outputId": "7a4e9387-2f89-4f30-db0b-cf2c48ea1198"
      },
      "execution_count": 65,
      "outputs": [
        {
          "output_type": "stream",
          "name": "stdout",
          "text": [
            "[[0.4137931 ]\n",
            " [0.27586207]\n",
            " [0.87356322]\n",
            " ...\n",
            " [0.66666667]\n",
            " [0.26436782]\n",
            " [0.1954023 ]]\n"
          ]
        }
      ]
    },
    {
      "cell_type": "code",
      "source": [
        "import tensorflow as tf\n",
        "\n",
        "model = tf.keras.Sequential()\n",
        "model.add(tf.keras.layers.Dense(units = 16 , input_shape = (1,) , activation =  'relu')) # 1 of shape mean our data is 1 dimensional\n",
        "model.add(tf.keras.layers.Dense(units=32, activation='relu') )\n",
        "model.add(tf.keras.layers.Dense(units=2, activation='softmax'))\n"
      ],
      "metadata": {
        "id": "hjxiCUtABYU4"
      },
      "execution_count": 66,
      "outputs": []
    },
    {
      "cell_type": "code",
      "source": [
        "model.summary()"
      ],
      "metadata": {
        "colab": {
          "base_uri": "https://localhost:8080/"
        },
        "id": "pKM51ULVD4I_",
        "outputId": "6dcb2047-c3cb-4452-8173-1d03c9f9286d"
      },
      "execution_count": 57,
      "outputs": [
        {
          "output_type": "stream",
          "name": "stdout",
          "text": [
            "Model: \"sequential_12\"\n",
            "_________________________________________________________________\n",
            " Layer (type)                Output Shape              Param #   \n",
            "=================================================================\n",
            " dense_22 (Dense)            (None, 16)                32        \n",
            "                                                                 \n",
            " dense_23 (Dense)            (None, 32)                544       \n",
            "                                                                 \n",
            " dense_24 (Dense)            (None, 2)                 66        \n",
            "                                                                 \n",
            "=================================================================\n",
            "Total params: 642\n",
            "Trainable params: 642\n",
            "Non-trainable params: 0\n",
            "_________________________________________________________________\n"
          ]
        }
      ]
    },
    {
      "cell_type": "code",
      "source": [
        "model.compile(optimizer=tf.keras.optimizers.Adam(learning_rate=0.0001), loss='sparse_categorical_crossentropy', metrics=['accuracy'])"
      ],
      "metadata": {
        "id": "xCjXj0NUITpY"
      },
      "execution_count": 68,
      "outputs": []
    },
    {
      "cell_type": "markdown",
      "source": [
        "Without validation\n",
        "\n",
        "```\n",
        "# This is formatted as code\n",
        "```\n",
        "\n"
      ],
      "metadata": {
        "id": "qDfJDHK3LRez"
      }
    },
    {
      "cell_type": "code",
      "source": [
        "model.fit(\n",
        "      x=scaled_train_samples\n",
        "    , y=train_labels\n",
        "    , batch_size=10\n",
        "    , epochs=30\n",
        "    , verbose=2\n",
        ")"
      ],
      "metadata": {
        "colab": {
          "base_uri": "https://localhost:8080/"
        },
        "id": "V0FIUUdCLRDE",
        "outputId": "c82e86f4-fad4-4d61-8b2c-7c8bce9ca39e"
      },
      "execution_count": 69,
      "outputs": [
        {
          "output_type": "stream",
          "name": "stdout",
          "text": [
            "Epoch 1/30\n",
            "210/210 - 1s - loss: 0.7163 - accuracy: 0.4310 - 900ms/epoch - 4ms/step\n",
            "Epoch 2/30\n",
            "210/210 - 0s - loss: 0.6894 - accuracy: 0.4771 - 244ms/epoch - 1ms/step\n",
            "Epoch 3/30\n",
            "210/210 - 0s - loss: 0.6673 - accuracy: 0.6557 - 306ms/epoch - 1ms/step\n",
            "Epoch 4/30\n",
            "210/210 - 1s - loss: 0.6469 - accuracy: 0.6767 - 562ms/epoch - 3ms/step\n",
            "Epoch 5/30\n",
            "210/210 - 0s - loss: 0.6254 - accuracy: 0.7062 - 327ms/epoch - 2ms/step\n",
            "Epoch 6/30\n",
            "210/210 - 1s - loss: 0.6030 - accuracy: 0.7348 - 601ms/epoch - 3ms/step\n",
            "Epoch 7/30\n",
            "210/210 - 0s - loss: 0.5796 - accuracy: 0.7410 - 303ms/epoch - 1ms/step\n",
            "Epoch 8/30\n",
            "210/210 - 0s - loss: 0.5537 - accuracy: 0.7771 - 219ms/epoch - 1ms/step\n",
            "Epoch 9/30\n",
            "210/210 - 0s - loss: 0.5275 - accuracy: 0.8014 - 221ms/epoch - 1ms/step\n",
            "Epoch 10/30\n",
            "210/210 - 0s - loss: 0.5019 - accuracy: 0.8229 - 228ms/epoch - 1ms/step\n",
            "Epoch 11/30\n",
            "210/210 - 0s - loss: 0.4772 - accuracy: 0.8452 - 224ms/epoch - 1ms/step\n",
            "Epoch 12/30\n",
            "210/210 - 0s - loss: 0.4537 - accuracy: 0.8610 - 223ms/epoch - 1ms/step\n",
            "Epoch 13/30\n",
            "210/210 - 0s - loss: 0.4318 - accuracy: 0.8738 - 226ms/epoch - 1ms/step\n",
            "Epoch 14/30\n",
            "210/210 - 0s - loss: 0.4116 - accuracy: 0.8824 - 231ms/epoch - 1ms/step\n",
            "Epoch 15/30\n",
            "210/210 - 0s - loss: 0.3935 - accuracy: 0.8910 - 218ms/epoch - 1ms/step\n",
            "Epoch 16/30\n",
            "210/210 - 0s - loss: 0.3774 - accuracy: 0.9029 - 230ms/epoch - 1ms/step\n",
            "Epoch 17/30\n",
            "210/210 - 0s - loss: 0.3628 - accuracy: 0.9105 - 232ms/epoch - 1ms/step\n",
            "Epoch 18/30\n",
            "210/210 - 0s - loss: 0.3488 - accuracy: 0.9129 - 227ms/epoch - 1ms/step\n",
            "Epoch 19/30\n",
            "210/210 - 0s - loss: 0.3352 - accuracy: 0.9229 - 221ms/epoch - 1ms/step\n",
            "Epoch 20/30\n",
            "210/210 - 0s - loss: 0.3255 - accuracy: 0.9190 - 226ms/epoch - 1ms/step\n",
            "Epoch 21/30\n",
            "210/210 - 0s - loss: 0.3173 - accuracy: 0.9262 - 223ms/epoch - 1ms/step\n",
            "Epoch 22/30\n",
            "210/210 - 0s - loss: 0.3105 - accuracy: 0.9295 - 236ms/epoch - 1ms/step\n",
            "Epoch 23/30\n",
            "210/210 - 0s - loss: 0.3047 - accuracy: 0.9276 - 210ms/epoch - 1ms/step\n",
            "Epoch 24/30\n",
            "210/210 - 0s - loss: 0.2997 - accuracy: 0.9343 - 221ms/epoch - 1ms/step\n",
            "Epoch 25/30\n",
            "210/210 - 0s - loss: 0.2954 - accuracy: 0.9271 - 235ms/epoch - 1ms/step\n",
            "Epoch 26/30\n",
            "210/210 - 0s - loss: 0.2919 - accuracy: 0.9362 - 226ms/epoch - 1ms/step\n",
            "Epoch 27/30\n",
            "210/210 - 0s - loss: 0.2888 - accuracy: 0.9348 - 227ms/epoch - 1ms/step\n",
            "Epoch 28/30\n",
            "210/210 - 0s - loss: 0.2859 - accuracy: 0.9329 - 229ms/epoch - 1ms/step\n",
            "Epoch 29/30\n",
            "210/210 - 0s - loss: 0.2835 - accuracy: 0.9333 - 237ms/epoch - 1ms/step\n",
            "Epoch 30/30\n",
            "210/210 - 0s - loss: 0.2812 - accuracy: 0.9357 - 215ms/epoch - 1ms/step\n"
          ]
        },
        {
          "output_type": "execute_result",
          "data": {
            "text/plain": [
              "<keras.callbacks.History at 0x7fdd8ad0c9d0>"
            ]
          },
          "metadata": {},
          "execution_count": 69
        }
      ]
    },
    {
      "cell_type": "markdown",
      "source": [
        "SET validation , method num 1\n"
      ],
      "metadata": {
        "id": "rsLodGh4K3BT"
      }
    },
    {
      "cell_type": "code",
      "source": [
        "\n",
        "scaled_train_samples ,validation_samples = scaled_train_samples[:2000] , scaled_train_samples[2000:] \n",
        "train_labels ,validation_labels = train_labels[:2000] , train_labels[2000:]\n",
        "\n",
        "model.fit(\n",
        "      x=scaled_train_samples\n",
        "    , y=train_labels\n",
        "    , validation_data=(validation_samples,validation_labels)\n",
        "    , batch_size=10\n",
        "    , epochs=30\n",
        "    , verbose=2\n",
        ")"
      ],
      "metadata": {
        "colab": {
          "base_uri": "https://localhost:8080/"
        },
        "id": "mtpnirPmI-1S",
        "outputId": "cd780fe7-b1bf-41e8-9651-d8f613c268e0"
      },
      "execution_count": 59,
      "outputs": [
        {
          "output_type": "stream",
          "name": "stdout",
          "text": [
            "Epoch 1/30\n",
            "200/200 - 1s - loss: 0.7196 - accuracy: 0.4010 - val_loss: 0.6959 - val_accuracy: 0.2700 - 858ms/epoch - 4ms/step\n",
            "Epoch 2/30\n",
            "200/200 - 0s - loss: 0.6765 - accuracy: 0.5130 - val_loss: 0.6564 - val_accuracy: 0.5900 - 238ms/epoch - 1ms/step\n",
            "Epoch 3/30\n",
            "200/200 - 0s - loss: 0.6434 - accuracy: 0.6075 - val_loss: 0.6226 - val_accuracy: 0.7100 - 243ms/epoch - 1ms/step\n",
            "Epoch 4/30\n",
            "200/200 - 0s - loss: 0.6130 - accuracy: 0.6785 - val_loss: 0.5900 - val_accuracy: 0.7400 - 258ms/epoch - 1ms/step\n",
            "Epoch 5/30\n",
            "200/200 - 0s - loss: 0.5831 - accuracy: 0.7270 - val_loss: 0.5581 - val_accuracy: 0.7600 - 248ms/epoch - 1ms/step\n",
            "Epoch 6/30\n",
            "200/200 - 0s - loss: 0.5522 - accuracy: 0.7645 - val_loss: 0.5256 - val_accuracy: 0.7900 - 235ms/epoch - 1ms/step\n",
            "Epoch 7/30\n",
            "200/200 - 0s - loss: 0.5215 - accuracy: 0.8015 - val_loss: 0.4957 - val_accuracy: 0.8300 - 254ms/epoch - 1ms/step\n",
            "Epoch 8/30\n",
            "200/200 - 0s - loss: 0.4922 - accuracy: 0.8220 - val_loss: 0.4674 - val_accuracy: 0.8600 - 240ms/epoch - 1ms/step\n",
            "Epoch 9/30\n",
            "200/200 - 0s - loss: 0.4641 - accuracy: 0.8480 - val_loss: 0.4413 - val_accuracy: 0.8700 - 233ms/epoch - 1ms/step\n",
            "Epoch 10/30\n",
            "200/200 - 0s - loss: 0.4377 - accuracy: 0.8645 - val_loss: 0.4174 - val_accuracy: 0.8800 - 401ms/epoch - 2ms/step\n",
            "Epoch 11/30\n",
            "200/200 - 0s - loss: 0.4134 - accuracy: 0.8765 - val_loss: 0.3960 - val_accuracy: 0.8800 - 384ms/epoch - 2ms/step\n",
            "Epoch 12/30\n",
            "200/200 - 0s - loss: 0.3915 - accuracy: 0.8920 - val_loss: 0.3765 - val_accuracy: 0.8800 - 371ms/epoch - 2ms/step\n",
            "Epoch 13/30\n",
            "200/200 - 0s - loss: 0.3718 - accuracy: 0.8975 - val_loss: 0.3609 - val_accuracy: 0.8900 - 243ms/epoch - 1ms/step\n",
            "Epoch 14/30\n",
            "200/200 - 0s - loss: 0.3547 - accuracy: 0.9105 - val_loss: 0.3459 - val_accuracy: 0.8900 - 243ms/epoch - 1ms/step\n",
            "Epoch 15/30\n",
            "200/200 - 0s - loss: 0.3397 - accuracy: 0.9160 - val_loss: 0.3336 - val_accuracy: 0.8900 - 459ms/epoch - 2ms/step\n",
            "Epoch 16/30\n",
            "200/200 - 0s - loss: 0.3267 - accuracy: 0.9105 - val_loss: 0.3244 - val_accuracy: 0.9000 - 289ms/epoch - 1ms/step\n",
            "Epoch 17/30\n",
            "200/200 - 0s - loss: 0.3155 - accuracy: 0.9275 - val_loss: 0.3151 - val_accuracy: 0.9000 - 296ms/epoch - 1ms/step\n",
            "Epoch 18/30\n",
            "200/200 - 0s - loss: 0.3060 - accuracy: 0.9250 - val_loss: 0.3080 - val_accuracy: 0.9000 - 275ms/epoch - 1ms/step\n",
            "Epoch 19/30\n",
            "200/200 - 0s - loss: 0.2978 - accuracy: 0.9270 - val_loss: 0.3026 - val_accuracy: 0.9000 - 292ms/epoch - 1ms/step\n",
            "Epoch 20/30\n",
            "200/200 - 1s - loss: 0.2905 - accuracy: 0.9305 - val_loss: 0.2976 - val_accuracy: 0.9000 - 561ms/epoch - 3ms/step\n",
            "Epoch 21/30\n",
            "200/200 - 0s - loss: 0.2846 - accuracy: 0.9315 - val_loss: 0.2935 - val_accuracy: 0.9000 - 361ms/epoch - 2ms/step\n",
            "Epoch 22/30\n",
            "200/200 - 1s - loss: 0.2793 - accuracy: 0.9305 - val_loss: 0.2907 - val_accuracy: 0.9000 - 555ms/epoch - 3ms/step\n",
            "Epoch 23/30\n",
            "200/200 - 1s - loss: 0.2746 - accuracy: 0.9355 - val_loss: 0.2878 - val_accuracy: 0.9000 - 502ms/epoch - 3ms/step\n",
            "Epoch 24/30\n",
            "200/200 - 1s - loss: 0.2707 - accuracy: 0.9375 - val_loss: 0.2856 - val_accuracy: 0.9100 - 533ms/epoch - 3ms/step\n",
            "Epoch 25/30\n",
            "200/200 - 0s - loss: 0.2672 - accuracy: 0.9380 - val_loss: 0.2836 - val_accuracy: 0.9100 - 334ms/epoch - 2ms/step\n",
            "Epoch 26/30\n",
            "200/200 - 0s - loss: 0.2642 - accuracy: 0.9365 - val_loss: 0.2825 - val_accuracy: 0.9100 - 302ms/epoch - 2ms/step\n",
            "Epoch 27/30\n",
            "200/200 - 0s - loss: 0.2616 - accuracy: 0.9375 - val_loss: 0.2815 - val_accuracy: 0.9100 - 331ms/epoch - 2ms/step\n",
            "Epoch 28/30\n",
            "200/200 - 0s - loss: 0.2594 - accuracy: 0.9410 - val_loss: 0.2803 - val_accuracy: 0.9100 - 311ms/epoch - 2ms/step\n",
            "Epoch 29/30\n",
            "200/200 - 0s - loss: 0.2572 - accuracy: 0.9415 - val_loss: 0.2794 - val_accuracy: 0.9100 - 256ms/epoch - 1ms/step\n",
            "Epoch 30/30\n",
            "200/200 - 0s - loss: 0.2556 - accuracy: 0.9385 - val_loss: 0.2791 - val_accuracy: 0.9100 - 254ms/epoch - 1ms/step\n"
          ]
        },
        {
          "output_type": "execute_result",
          "data": {
            "text/plain": [
              "<keras.callbacks.History at 0x7fdd8af02130>"
            ]
          },
          "metadata": {},
          "execution_count": 59
        }
      ]
    },
    {
      "cell_type": "markdown",
      "source": [
        "SET validation , method num 2\n",
        "\n"
      ],
      "metadata": {
        "id": "ieerojZfLXx-"
      }
    },
    {
      "cell_type": "code",
      "source": [
        "model.fit(\n",
        "      x=scaled_train_samples\n",
        "    , y=train_labels\n",
        "    , validation_split=0.1\n",
        "    , batch_size=10\n",
        "    , epochs=30\n",
        "    , verbose=2\n",
        ")"
      ],
      "metadata": {
        "colab": {
          "base_uri": "https://localhost:8080/"
        },
        "id": "vmLQ9CHILOoV",
        "outputId": "7bf6103d-4a88-438a-e3d0-9e2c716928f0"
      },
      "execution_count": 70,
      "outputs": [
        {
          "output_type": "stream",
          "name": "stdout",
          "text": [
            "Epoch 1/30\n",
            "189/189 - 0s - loss: 0.2780 - accuracy: 0.9376 - val_loss: 0.2908 - val_accuracy: 0.9381 - 366ms/epoch - 2ms/step\n",
            "Epoch 2/30\n",
            "189/189 - 0s - loss: 0.2764 - accuracy: 0.9370 - val_loss: 0.2893 - val_accuracy: 0.9381 - 243ms/epoch - 1ms/step\n",
            "Epoch 3/30\n",
            "189/189 - 0s - loss: 0.2750 - accuracy: 0.9360 - val_loss: 0.2878 - val_accuracy: 0.9381 - 242ms/epoch - 1ms/step\n",
            "Epoch 4/30\n",
            "189/189 - 0s - loss: 0.2735 - accuracy: 0.9386 - val_loss: 0.2864 - val_accuracy: 0.9381 - 236ms/epoch - 1ms/step\n",
            "Epoch 5/30\n",
            "189/189 - 0s - loss: 0.2722 - accuracy: 0.9360 - val_loss: 0.2851 - val_accuracy: 0.9476 - 346ms/epoch - 2ms/step\n",
            "Epoch 6/30\n",
            "189/189 - 0s - loss: 0.2710 - accuracy: 0.9370 - val_loss: 0.2837 - val_accuracy: 0.9476 - 374ms/epoch - 2ms/step\n",
            "Epoch 7/30\n",
            "189/189 - 0s - loss: 0.2699 - accuracy: 0.9376 - val_loss: 0.2824 - val_accuracy: 0.9476 - 377ms/epoch - 2ms/step\n",
            "Epoch 8/30\n",
            "189/189 - 0s - loss: 0.2687 - accuracy: 0.9392 - val_loss: 0.2813 - val_accuracy: 0.9476 - 358ms/epoch - 2ms/step\n",
            "Epoch 9/30\n",
            "189/189 - 0s - loss: 0.2677 - accuracy: 0.9392 - val_loss: 0.2801 - val_accuracy: 0.9476 - 392ms/epoch - 2ms/step\n",
            "Epoch 10/30\n",
            "189/189 - 0s - loss: 0.2668 - accuracy: 0.9392 - val_loss: 0.2792 - val_accuracy: 0.9476 - 273ms/epoch - 1ms/step\n",
            "Epoch 11/30\n",
            "189/189 - 0s - loss: 0.2660 - accuracy: 0.9386 - val_loss: 0.2780 - val_accuracy: 0.9476 - 242ms/epoch - 1ms/step\n",
            "Epoch 12/30\n",
            "189/189 - 0s - loss: 0.2651 - accuracy: 0.9392 - val_loss: 0.2770 - val_accuracy: 0.9476 - 244ms/epoch - 1ms/step\n",
            "Epoch 13/30\n",
            "189/189 - 0s - loss: 0.2643 - accuracy: 0.9365 - val_loss: 0.2760 - val_accuracy: 0.9476 - 273ms/epoch - 1ms/step\n",
            "Epoch 14/30\n",
            "189/189 - 0s - loss: 0.2636 - accuracy: 0.9392 - val_loss: 0.2751 - val_accuracy: 0.9476 - 293ms/epoch - 2ms/step\n",
            "Epoch 15/30\n",
            "189/189 - 0s - loss: 0.2630 - accuracy: 0.9392 - val_loss: 0.2743 - val_accuracy: 0.9476 - 256ms/epoch - 1ms/step\n",
            "Epoch 16/30\n",
            "189/189 - 0s - loss: 0.2622 - accuracy: 0.9392 - val_loss: 0.2734 - val_accuracy: 0.9476 - 242ms/epoch - 1ms/step\n",
            "Epoch 17/30\n",
            "189/189 - 0s - loss: 0.2615 - accuracy: 0.9392 - val_loss: 0.2727 - val_accuracy: 0.9476 - 248ms/epoch - 1ms/step\n",
            "Epoch 18/30\n",
            "189/189 - 0s - loss: 0.2609 - accuracy: 0.9392 - val_loss: 0.2718 - val_accuracy: 0.9476 - 255ms/epoch - 1ms/step\n",
            "Epoch 19/30\n",
            "189/189 - 0s - loss: 0.2603 - accuracy: 0.9397 - val_loss: 0.2713 - val_accuracy: 0.9476 - 245ms/epoch - 1ms/step\n",
            "Epoch 20/30\n",
            "189/189 - 0s - loss: 0.2599 - accuracy: 0.9402 - val_loss: 0.2705 - val_accuracy: 0.9476 - 249ms/epoch - 1ms/step\n",
            "Epoch 21/30\n",
            "189/189 - 0s - loss: 0.2591 - accuracy: 0.9392 - val_loss: 0.2696 - val_accuracy: 0.9476 - 243ms/epoch - 1ms/step\n",
            "Epoch 22/30\n",
            "189/189 - 0s - loss: 0.2586 - accuracy: 0.9392 - val_loss: 0.2688 - val_accuracy: 0.9476 - 247ms/epoch - 1ms/step\n",
            "Epoch 23/30\n",
            "189/189 - 0s - loss: 0.2582 - accuracy: 0.9392 - val_loss: 0.2681 - val_accuracy: 0.9476 - 255ms/epoch - 1ms/step\n",
            "Epoch 24/30\n",
            "189/189 - 0s - loss: 0.2575 - accuracy: 0.9392 - val_loss: 0.2675 - val_accuracy: 0.9476 - 251ms/epoch - 1ms/step\n",
            "Epoch 25/30\n",
            "189/189 - 0s - loss: 0.2570 - accuracy: 0.9392 - val_loss: 0.2669 - val_accuracy: 0.9476 - 242ms/epoch - 1ms/step\n",
            "Epoch 26/30\n",
            "189/189 - 0s - loss: 0.2565 - accuracy: 0.9392 - val_loss: 0.2665 - val_accuracy: 0.9476 - 252ms/epoch - 1ms/step\n",
            "Epoch 27/30\n",
            "189/189 - 0s - loss: 0.2560 - accuracy: 0.9392 - val_loss: 0.2658 - val_accuracy: 0.9476 - 246ms/epoch - 1ms/step\n",
            "Epoch 28/30\n",
            "189/189 - 0s - loss: 0.2556 - accuracy: 0.9392 - val_loss: 0.2652 - val_accuracy: 0.9476 - 234ms/epoch - 1ms/step\n",
            "Epoch 29/30\n",
            "189/189 - 0s - loss: 0.2550 - accuracy: 0.9392 - val_loss: 0.2647 - val_accuracy: 0.9476 - 280ms/epoch - 1ms/step\n",
            "Epoch 30/30\n",
            "189/189 - 0s - loss: 0.2546 - accuracy: 0.9392 - val_loss: 0.2640 - val_accuracy: 0.9476 - 251ms/epoch - 1ms/step\n"
          ]
        },
        {
          "output_type": "execute_result",
          "data": {
            "text/plain": [
              "<keras.callbacks.History at 0x7fdd8aba7c70>"
            ]
          },
          "metadata": {},
          "execution_count": 70
        }
      ]
    },
    {
      "cell_type": "code",
      "source": [
        "test_labels =  []\n",
        "test_samples = []\n",
        "\n",
        "for i in range(10):\n",
        "    random_younger = random.randint(13,64)\n",
        "    test_samples.append(random_younger)\n",
        "    test_labels.append(1)\n",
        "\n",
        "    random_older = random.randint(65,100)\n",
        "    test_samples.append(random_older)\n",
        "    test_labels.append(0)\n",
        "\n",
        "for i in range(200):\n",
        "  \n",
        "    random_younger = random.randint(13,64)\n",
        "    test_samples.append(random_younger)\n",
        "    test_labels.append(0)\n",
        "\n",
        "    random_older = random.randint(65,100)\n",
        "    test_samples.append(random_older)\n",
        "    test_labels.append(1)\n",
        "\n",
        "test_labels = np.array(test_labels)\n",
        "test_samples = np.array(test_samples)\n",
        "test_labels, test_samples = shuffle(test_labels, test_samples)\n",
        "\n",
        "scaled_test_samples = scaler.fit_transform(test_samples.reshape(-1,1))\n",
        "\n",
        "\n",
        "\n"
      ],
      "metadata": {
        "id": "7M2zsKvaNsYS"
      },
      "execution_count": 72,
      "outputs": []
    },
    {
      "cell_type": "code",
      "source": [
        "prediction_labels  = model.predict(scaled_test_samples,verbose=-1)\n",
        "rounded_predictions = np.argmax(prediction_labels, axis=-1)"
      ],
      "metadata": {
        "id": "gL4WtyGkN4P-"
      },
      "execution_count": 93,
      "outputs": []
    },
    {
      "cell_type": "code",
      "source": [
        "\n",
        "\n",
        "json_string = model.to_json()\n",
        "new_model =  tf.keras.models.model_from_json(json_string)\n"
      ],
      "metadata": {
        "id": "ULxYQdP-PCu4"
      },
      "execution_count": 114,
      "outputs": []
    }
  ]
}